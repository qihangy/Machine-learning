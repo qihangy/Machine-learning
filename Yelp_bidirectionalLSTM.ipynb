{
 "cells": [
  {
   "cell_type": "markdown",
   "metadata": {},
   "source": [
    "# Yelp context analysis  \n",
    "-NLP using Keras Pretrained Glove word Embeddings <br/>\n",
    "\n",
    "Bidirectional LSTMs train two instead of one LSTMs on the input sequence. The first on the input sequence as-is and the second on a reversed copy of the input sequence. This can provide additional context to the network and result in faster and even fuller learning on the problem."
   ]
  },
  {
   "cell_type": "code",
   "execution_count": 21,
   "metadata": {},
   "outputs": [],
   "source": [
    "import os\n",
    "import datetime\n",
    "import pandas as pd\n",
    "import numpy as np\n",
    "import matplotlib.pyplot as plt\n",
    "import seaborn as sns\n",
    "import matplotlib.dates as mdates\n",
    "%matplotlib inline\n",
    "\n",
    "#from fbprophet import Prophet\n",
    "from keras.models import Sequential\n",
    "from keras.layers import Dense\n",
    "from keras.layers import LSTM, GRU\n",
    "from keras.layers import Dropout\n",
    "from keras.layers import Bidirectional, GlobalMaxPool1D,Conv1D\n",
    "from keras.layers import Input, Embedding, Activation\n",
    "\n",
    "from keras.models import Model\n",
    "from keras.preprocessing.text import Tokenizer\n",
    "from keras.preprocessing.sequence import pad_sequences\n",
    "from keras.utils import to_categorical\n",
    "from keras.layers import Embedding\n"
   ]
  },
  {
   "cell_type": "markdown",
   "metadata": {},
   "source": [
    "# Preparing text data"
   ]
  },
  {
   "cell_type": "code",
   "execution_count": 27,
   "metadata": {},
   "outputs": [
    {
     "data": {
      "text/html": [
       "<div>\n",
       "<style scoped>\n",
       "    .dataframe tbody tr th:only-of-type {\n",
       "        vertical-align: middle;\n",
       "    }\n",
       "\n",
       "    .dataframe tbody tr th {\n",
       "        vertical-align: top;\n",
       "    }\n",
       "\n",
       "    .dataframe thead th {\n",
       "        text-align: right;\n",
       "    }\n",
       "</style>\n",
       "<table border=\"1\" class=\"dataframe\">\n",
       "  <thead>\n",
       "    <tr style=\"text-align: right;\">\n",
       "      <th></th>\n",
       "      <th>review_id</th>\n",
       "      <th>user_id</th>\n",
       "      <th>business_id</th>\n",
       "      <th>stars</th>\n",
       "      <th>date</th>\n",
       "      <th>text</th>\n",
       "      <th>useful</th>\n",
       "      <th>funny</th>\n",
       "      <th>cool</th>\n",
       "      <th>city</th>\n",
       "      <th>categories</th>\n",
       "      <th>state</th>\n",
       "      <th>sum_score</th>\n",
       "      <th>no_of_word</th>\n",
       "      <th>is_restaurant</th>\n",
       "    </tr>\n",
       "  </thead>\n",
       "  <tbody>\n",
       "    <tr>\n",
       "      <th>0</th>\n",
       "      <td>dpfVRGN9BN-iY_l06TOJUg</td>\n",
       "      <td>5TCgTJE7uZ848zOEEUiVNg</td>\n",
       "      <td>DN0b4Un8--Uf6SEWLeh0UA</td>\n",
       "      <td>Good</td>\n",
       "      <td>2014-02-18</td>\n",
       "      <td>I refuse to judge a place before I try it and ...</td>\n",
       "      <td>92</td>\n",
       "      <td>952</td>\n",
       "      <td>43</td>\n",
       "      <td>Scottsdale</td>\n",
       "      <td>American (New);Pizza;Bakeries;Italian;Food;Res...</td>\n",
       "      <td>AZ</td>\n",
       "      <td>1087</td>\n",
       "      <td>789</td>\n",
       "      <td>True</td>\n",
       "    </tr>\n",
       "    <tr>\n",
       "      <th>1</th>\n",
       "      <td>DjAzP5k5sA9cudo39rsmcw</td>\n",
       "      <td>wuYbmgHqquyjjG3X4BYOeA</td>\n",
       "      <td>DN0b4Un8--Uf6SEWLeh0UA</td>\n",
       "      <td>Good</td>\n",
       "      <td>2012-11-18</td>\n",
       "      <td>ABC is fantastic every time. The food is consi...</td>\n",
       "      <td>17</td>\n",
       "      <td>932</td>\n",
       "      <td>11</td>\n",
       "      <td>Scottsdale</td>\n",
       "      <td>American (New);Pizza;Bakeries;Italian;Food;Res...</td>\n",
       "      <td>AZ</td>\n",
       "      <td>960</td>\n",
       "      <td>48</td>\n",
       "      <td>True</td>\n",
       "    </tr>\n",
       "    <tr>\n",
       "      <th>2</th>\n",
       "      <td>Yqh0TZhZt5fsBzFXD0q7bw</td>\n",
       "      <td>Zc5dh0i6c7TEPuhJqzuqOQ</td>\n",
       "      <td>DN0b4Un8--Uf6SEWLeh0UA</td>\n",
       "      <td>Good</td>\n",
       "      <td>2013-08-05</td>\n",
       "      <td>WHY WE DECIDED TO GIVE THE PLACE A TRY:\\nOk, s...</td>\n",
       "      <td>64</td>\n",
       "      <td>681</td>\n",
       "      <td>19</td>\n",
       "      <td>Scottsdale</td>\n",
       "      <td>American (New);Pizza;Bakeries;Italian;Food;Res...</td>\n",
       "      <td>AZ</td>\n",
       "      <td>764</td>\n",
       "      <td>646</td>\n",
       "      <td>True</td>\n",
       "    </tr>\n",
       "    <tr>\n",
       "      <th>3</th>\n",
       "      <td>WXD8zAnDF44gt6tcIGkrOg</td>\n",
       "      <td>NPwk91y2q7URU2VQJEQZMQ</td>\n",
       "      <td>DN0b4Un8--Uf6SEWLeh0UA</td>\n",
       "      <td>Good</td>\n",
       "      <td>2011-07-22</td>\n",
       "      <td>Breakfast at Amy's. It DOES NOT get any better...</td>\n",
       "      <td>14</td>\n",
       "      <td>611</td>\n",
       "      <td>5</td>\n",
       "      <td>Scottsdale</td>\n",
       "      <td>American (New);Pizza;Bakeries;Italian;Food;Res...</td>\n",
       "      <td>AZ</td>\n",
       "      <td>630</td>\n",
       "      <td>141</td>\n",
       "      <td>True</td>\n",
       "    </tr>\n",
       "    <tr>\n",
       "      <th>4</th>\n",
       "      <td>TyKxWlwMrjUW68I4R5x8xQ</td>\n",
       "      <td>NnMN10F4wDuBKv25vCqcCg</td>\n",
       "      <td>DN0b4Un8--Uf6SEWLeh0UA</td>\n",
       "      <td>Good</td>\n",
       "      <td>2009-10-05</td>\n",
       "      <td>For more than a year Amy's Baking Company has ...</td>\n",
       "      <td>31</td>\n",
       "      <td>589</td>\n",
       "      <td>10</td>\n",
       "      <td>Scottsdale</td>\n",
       "      <td>American (New);Pizza;Bakeries;Italian;Food;Res...</td>\n",
       "      <td>AZ</td>\n",
       "      <td>630</td>\n",
       "      <td>488</td>\n",
       "      <td>True</td>\n",
       "    </tr>\n",
       "  </tbody>\n",
       "</table>\n",
       "</div>"
      ],
      "text/plain": [
       "                review_id                 user_id             business_id  \\\n",
       "0  dpfVRGN9BN-iY_l06TOJUg  5TCgTJE7uZ848zOEEUiVNg  DN0b4Un8--Uf6SEWLeh0UA   \n",
       "1  DjAzP5k5sA9cudo39rsmcw  wuYbmgHqquyjjG3X4BYOeA  DN0b4Un8--Uf6SEWLeh0UA   \n",
       "2  Yqh0TZhZt5fsBzFXD0q7bw  Zc5dh0i6c7TEPuhJqzuqOQ  DN0b4Un8--Uf6SEWLeh0UA   \n",
       "3  WXD8zAnDF44gt6tcIGkrOg  NPwk91y2q7URU2VQJEQZMQ  DN0b4Un8--Uf6SEWLeh0UA   \n",
       "4  TyKxWlwMrjUW68I4R5x8xQ  NnMN10F4wDuBKv25vCqcCg  DN0b4Un8--Uf6SEWLeh0UA   \n",
       "\n",
       "  stars        date                                               text  \\\n",
       "0  Good  2014-02-18  I refuse to judge a place before I try it and ...   \n",
       "1  Good  2012-11-18  ABC is fantastic every time. The food is consi...   \n",
       "2  Good  2013-08-05  WHY WE DECIDED TO GIVE THE PLACE A TRY:\\nOk, s...   \n",
       "3  Good  2011-07-22  Breakfast at Amy's. It DOES NOT get any better...   \n",
       "4  Good  2009-10-05  For more than a year Amy's Baking Company has ...   \n",
       "\n",
       "   useful  funny  cool        city  \\\n",
       "0      92    952    43  Scottsdale   \n",
       "1      17    932    11  Scottsdale   \n",
       "2      64    681    19  Scottsdale   \n",
       "3      14    611     5  Scottsdale   \n",
       "4      31    589    10  Scottsdale   \n",
       "\n",
       "                                          categories state  sum_score  \\\n",
       "0  American (New);Pizza;Bakeries;Italian;Food;Res...    AZ       1087   \n",
       "1  American (New);Pizza;Bakeries;Italian;Food;Res...    AZ        960   \n",
       "2  American (New);Pizza;Bakeries;Italian;Food;Res...    AZ        764   \n",
       "3  American (New);Pizza;Bakeries;Italian;Food;Res...    AZ        630   \n",
       "4  American (New);Pizza;Bakeries;Italian;Food;Res...    AZ        630   \n",
       "\n",
       "   no_of_word  is_restaurant  \n",
       "0         789           True  \n",
       "1          48           True  \n",
       "2         646           True  \n",
       "3         141           True  \n",
       "4         488           True  "
      ]
     },
     "execution_count": 27,
     "metadata": {},
     "output_type": "execute_result"
    }
   ],
   "source": [
    "df = pd.read_csv(\"/Users/guapofish/Desktop/Yelp/data_cleaned.csv\")\n",
    "df.head()"
   ]
  },
  {
   "cell_type": "markdown",
   "metadata": {},
   "source": [
    "Variables: <br/>\n",
    "1. review_id: the ID of customer <br/>\n",
    "2. user_id: the ID of Yelp user<br/>\n",
    "3. business_id: the ID of restaurant<br/>\n",
    "4. stars: the star rated by customer<br/>\n",
    "5. date: the date when reviews are made<br/>\n",
    "6. text: the review from customer<br/>\n",
    "7. useful: the number of Yelp user who thinks the review is useful<br/>\n",
    "8. funny: the number of Yelp user who thinks the review is funny<br/>\n",
    "9. cool: the number of Yelp user who thinks the review is cool<br/>\n",
    "10. city: the city where restaurant locates<br/>\n",
    "11. categories: the type of restaurant<br/>\n",
    "12. state: the state where the restaurant locates<br/>\n",
    "13. sum_score: total score the restaurant receives from customers<br/>\n",
    "14. no_of_word: number of words in text (English review only)<br/>\n"
   ]
  },
  {
   "cell_type": "code",
   "execution_count": 42,
   "metadata": {},
   "outputs": [
    {
     "name": "stdout",
     "output_type": "stream",
     "text": [
      "review_id        False\n",
      "user_id          False\n",
      "business_id      False\n",
      "stars            False\n",
      "date             False\n",
      "text             False\n",
      "useful           False\n",
      "funny            False\n",
      "cool             False\n",
      "city             False\n",
      "categories       False\n",
      "state            False\n",
      "sum_score        False\n",
      "no_of_word       False\n",
      "is_restaurant    False\n",
      "dtype: bool\n",
      "The num of row of the Yelp Review data frame is 75583\n"
     ]
    }
   ],
   "source": [
    "#check if there is some missing values in the df, good then we can move forward:\n",
    "\n",
    "print(df.isnull().any())\n",
    "print(\"The num of row of the Yelp Review data frame is \" +str(len(df)))"
   ]
  },
  {
   "cell_type": "code",
   "execution_count": 43,
   "metadata": {},
   "outputs": [
    {
     "data": {
      "text/plain": [
       "array(['Good', 'Bad'], dtype=object)"
      ]
     },
     "execution_count": 43,
     "metadata": {},
     "output_type": "execute_result"
    }
   ],
   "source": [
    "df.stars.unique()"
   ]
  },
  {
   "cell_type": "code",
   "execution_count": 44,
   "metadata": {},
   "outputs": [
    {
     "data": {
      "image/png": "[encoded data removed]",
      "text/plain": [
       "<Figure size 576x288 with 1 Axes>"
      ]
     },
     "metadata": {
      "needs_background": "light"
     },
     "output_type": "display_data"
    }
   ],
   "source": [
    "x = df['stars'].value_counts()\n",
    "y = x.sort_index()\n",
    "#plot\n",
    "plt.figure(figsize=(8,4))\n",
    "ax= sns.barplot(y.index, x.values, alpha=0.8)\n",
    "plt.title(\"Yelp Stars for business\")\n",
    "plt.ylabel('Number of businesses', fontsize=12)\n",
    "plt.xlabel('Stars acquired ', fontsize=12);"
   ]
  },
  {
   "cell_type": "code",
   "execution_count": 58,
   "metadata": {},
   "outputs": [],
   "source": [
    "df[\"labels\"]= df[\"stars\"].apply(lambda x: 1 if 'Good' else 0)\n",
    "df = df.drop(\"stars\",axis=1)"
   ]
  },
  {
   "cell_type": "code",
   "execution_count": 64,
   "metadata": {},
   "outputs": [],
   "source": [
    "texts = df[\"text\"].values # len(texts) = 75583\n",
    "labels = df[\"labels\"].values"
   ]
  },
  {
   "cell_type": "markdown",
   "metadata": {},
   "source": [
    "# Converting text into numerical representation i.e Tensors"
   ]
  },
  {
   "cell_type": "markdown",
   "metadata": {},
   "source": [
    "To do this, we will rely on Keras utilities keras.preprocessing.text.Tokenizer and keras.preprocessing.sequence.pad_sequences."
   ]
  },
  {
   "cell_type": "code",
   "execution_count": 66,
   "metadata": {},
   "outputs": [],
   "source": [
    "MAX_NUM_WORDS = 1000 # how many unique words to use (i.e num rows in embedding vector)\n",
    "MAX_SEQUENCE_LENGTH = 100 # max number of words in a review to use"
   ]
  },
  {
   "cell_type": "code",
   "execution_count": 73,
   "metadata": {},
   "outputs": [
    {
     "name": "stdout",
     "output_type": "stream",
     "text": [
      "Found 105465 unique tokens.\n"
     ]
    }
   ],
   "source": [
    "# from keras.preprocessing.text import Tokenizer\n",
    "tokenizer = Tokenizer(num_words=MAX_NUM_WORDS)\n",
    "tokenizer.fit_on_texts(texts)\n",
    "sequences = tokenizer.texts_to_sequences(texts) # sequence_len = 75583\n",
    "word_index = tokenizer.word_index\n",
    "print('Found %s unique tokens.' % len(word_index))"
   ]
  },
  {
   "cell_type": "code",
   "execution_count": 79,
   "metadata": {},
   "outputs": [
    {
     "name": "stdout",
     "output_type": "stream",
     "text": [
      "Shape of data tensor: (75583, 100)\n",
      "Shape of label tensor: (75583, 2)\n"
     ]
    }
   ],
   "source": [
    "# from keras.preprocessing.sequence import pad_sequences\n",
    "#from keras.utils import to_categorical\n",
    "data = pad_sequences(sequences, maxlen=MAX_SEQUENCE_LENGTH)\n",
    "\n",
    "labels = to_categorical(np.asarray(labels))\n",
    "print('Shape of data tensor:', data.shape)\n",
    "print('Shape of label tensor:', labels.shape)"
   ]
  },
  {
   "cell_type": "code",
   "execution_count": 83,
   "metadata": {},
   "outputs": [
    {
     "data": {
      "text/plain": [
       "array([  5,  88,   9, 429, 470,   2,  21,  39, 118,  18, 115,  20,  26,\n",
       "       770,  18,  54,  13, 451,  18,  13,  24, 309,   4, 494, 265,   5,\n",
       "        12,   3, 227,   8, 375,   5, 490, 120,   6, 273,   3, 451,  18,\n",
       "       348,  11,  15, 528,   3, 142,  17,   1,  31, 399,  17, 101,   8,\n",
       "         3, 178,  88, 583, 313,  15,  31,  10,  28,  41,  28,   8, 637,\n",
       "         9,  16,   2,  16, 425,   2,   3,  70,  29,  59,  11, 718, 147,\n",
       "         1, 769,  10,  64,  42, 219,  11,   4, 157, 522, 101,  11, 623,\n",
       "        37, 422, 789,   5,  29,   4, 237,   6,   9], dtype=int32)"
      ]
     },
     "execution_count": 83,
     "metadata": {},
     "output_type": "execute_result"
    }
   ],
   "source": [
    "data[0]"
   ]
  },
  {
   "cell_type": "markdown",
   "metadata": {},
   "source": [
    "# Split the data into a training set and a validation set"
   ]
  },
  {
   "cell_type": "code",
   "execution_count": 84,
   "metadata": {},
   "outputs": [],
   "source": [
    "VALIDATION_SPLIT=0.3\n",
    "\n",
    "indices = np.arange(data.shape[0])\n",
    "np.random.shuffle(indices)\n",
    "data = data[indices] # data[indices].shape = (75583, 100)\n",
    "labels = labels[indices]\n",
    "nb_validation_samples = int(VALIDATION_SPLIT * data.shape[0]) #22674\n",
    "\n",
    "x_train = data[:-nb_validation_samples]\n",
    "y_train = labels[:-nb_validation_samples]\n",
    "x_val = data[-nb_validation_samples:]\n",
    "y_val = labels[-nb_validation_samples:]"
   ]
  },
  {
   "cell_type": "markdown",
   "metadata": {},
   "source": [
    "--- Preparing the Embedding layer"
   ]
  },
  {
   "cell_type": "code",
   "execution_count": 95,
   "metadata": {},
   "outputs": [
    {
     "name": "stdout",
     "output_type": "stream",
     "text": [
      "Found 400000 word vectors.\n"
     ]
    }
   ],
   "source": [
    "GLOVE_DIR='/Users/guapofish/Desktop/Yelp/'\n",
    "\n",
    "#import os\n",
    "embeddings_index = {}\n",
    "f = open(os.path.join(GLOVE_DIR, 'glove.6B.50d.txt'))\n",
    "for line in f:\n",
    "    values = line.split()\n",
    "    word = values[0]\n",
    "    coefs = np.asarray(values[1:], dtype='float32')\n",
    "    embeddings_index[word] = coefs\n",
    "f.close()\n",
    "\n",
    "print('Found %s word vectors.' % len(embeddings_index))"
   ]
  },
  {
   "cell_type": "code",
   "execution_count": 102,
   "metadata": {},
   "outputs": [
    {
     "data": {
      "text/plain": [
       "array([ 4.1800e-01,  2.4968e-01, -4.1242e-01,  1.2170e-01,  3.4527e-01,\n",
       "       -4.4457e-02, -4.9688e-01, -1.7862e-01, -6.6023e-04, -6.5660e-01,\n",
       "        2.7843e-01, -1.4767e-01, -5.5677e-01,  1.4658e-01, -9.5095e-03,\n",
       "        1.1658e-02,  1.0204e-01, -1.2792e-01, -8.4430e-01, -1.2181e-01,\n",
       "       -1.6801e-02, -3.3279e-01, -1.5520e-01, -2.3131e-01, -1.9181e-01,\n",
       "       -1.8823e+00, -7.6746e-01,  9.9051e-02, -4.2125e-01, -1.9526e-01,\n",
       "        4.0071e+00, -1.8594e-01, -5.2287e-01, -3.1681e-01,  5.9213e-04,\n",
       "        7.4449e-03,  1.7778e-01, -1.5897e-01,  1.2041e-02, -5.4223e-02,\n",
       "       -2.9871e-01, -1.5749e-01, -3.4758e-01, -4.5637e-02, -4.4251e-01,\n",
       "        1.8785e-01,  2.7849e-03, -1.8411e-01, -1.1514e-01, -7.8581e-01],\n",
       "      dtype=float32)"
      ]
     },
     "execution_count": 102,
     "metadata": {},
     "output_type": "execute_result"
    }
   ],
   "source": [
    "embeddings_index['the'] #length = 50 "
   ]
  },
  {
   "cell_type": "code",
   "execution_count": 104,
   "metadata": {},
   "outputs": [
    {
     "data": {
      "text/plain": [
       "array([ 1.5164e-01,  3.0177e-01, -1.6763e-01,  1.7684e-01,  3.1719e-01,\n",
       "        3.3973e-01, -4.3478e-01, -3.1086e-01, -4.4999e-01, -2.9486e-01,\n",
       "        1.6608e-01,  1.1963e-01, -4.1328e-01, -4.2353e-01,  5.9868e-01,\n",
       "        2.8825e-01, -1.1547e-01, -4.1848e-02, -6.7989e-01, -2.5063e-01,\n",
       "        1.8472e-01,  8.6876e-02,  4.6582e-01,  1.5035e-02,  4.3474e-02,\n",
       "       -1.4671e+00, -3.0384e-01, -2.3441e-02,  3.0589e-01, -2.1785e-01,\n",
       "        3.7460e+00,  4.2284e-03, -1.8436e-01, -4.6209e-01,  9.8329e-02,\n",
       "       -1.1907e-01,  2.3919e-01,  1.1610e-01,  4.1705e-01,  5.6763e-02,\n",
       "       -6.3681e-05,  6.8987e-02,  8.7939e-02, -1.0285e-01, -1.3931e-01,\n",
       "        2.2314e-01, -8.0803e-02, -3.5652e-01,  1.6413e-02,  1.0216e-01],\n",
       "      dtype=float32)"
      ]
     },
     "execution_count": 104,
     "metadata": {},
     "output_type": "execute_result"
    }
   ],
   "source": [
    "embeddings_index['.'] #length = 50 "
   ]
  },
  {
   "cell_type": "code",
   "execution_count": 110,
   "metadata": {},
   "outputs": [],
   "source": [
    "EMBEDDING_DIM = 50 # how big is each word vector\n",
    "\n",
    "embedding_matrix = np.zeros((len(word_index) + 1, EMBEDDING_DIM))\n",
    "for word, i in word_index.items():\n",
    "    embedding_vector = embeddings_index.get(word)\n",
    "    if embedding_vector is not None:\n",
    "        # words not found in embedding index will be all-zeros.\n",
    "        embedding_matrix[i] = embedding_vector"
   ]
  },
  {
   "cell_type": "code",
   "execution_count": 113,
   "metadata": {},
   "outputs": [
    {
     "data": {
      "text/plain": [
       "(105466, 50)"
      ]
     },
     "execution_count": 113,
     "metadata": {},
     "output_type": "execute_result"
    }
   ],
   "source": [
    "embedding_matrix.shape"
   ]
  },
  {
   "cell_type": "code",
   "execution_count": 114,
   "metadata": {},
   "outputs": [],
   "source": [
    "#from keras.layers import Embedding\n",
    "\n",
    "embedding_layer = Embedding(len(word_index) + 1,\n",
    "                            EMBEDDING_DIM,\n",
    "                            weights=[embedding_matrix],\n",
    "                            input_length=MAX_SEQUENCE_LENGTH,\n",
    "                            trainable=False)"
   ]
  },
  {
   "cell_type": "markdown",
   "metadata": {},
   "source": [
    "# Train Model\n"
   ]
  },
  {
   "cell_type": "markdown",
   "metadata": {},
   "source": [
    "First try the four layer DNN, see the # of layer is enough: <br/>\n",
    "BidirectionalLSTMs -> MaxPool_1D -> Dense(Relu) -> Dense(Sigmoid)"
   ]
  },
  {
   "cell_type": "code",
   "execution_count": 136,
   "metadata": {},
   "outputs": [],
   "source": [
    "#from keras.layers import Bidirectional, GlobalMaxPool1D,Conv1D\n",
    "#from keras.layers import Dense, Input, LSTM, Embedding, Dropout, Activation\n",
    "#from keras.models import Model\n",
    "\n",
    "\n",
    "inp = Input(shape=(MAX_SEQUENCE_LENGTH,))\n",
    "x = embedded_sequences = embedding_layer(inp)\n",
    "x = Bidirectional(LSTM(50, return_sequences=True, dropout=0.2, recurrent_dropout=0.2))(x)\n",
    "x = GlobalMaxPool1D()(x)\n",
    "x = Dense(50, activation=\"relu\")(x)\n",
    "x = Dropout(0.2)(x)\n",
    "x = Dense(2, activation=\"sigmoid\")(x)\n",
    "model = Model(inputs=inp, outputs=x)\n",
    "model.compile(loss='binary_crossentropy', optimizer='adam', metrics=['accuracy'])"
   ]
  },
  {
   "cell_type": "code",
   "execution_count": 137,
   "metadata": {},
   "outputs": [],
   "source": [
    "#import tensorflow as tf\n",
    "class myCallback(tf.keras.callbacks.Callback):\n",
    "    def on_epoch_end(self, epoch, logs={}):\n",
    "        if(logs.get('acc')>0.9999):\n",
    "            print(\"\\nReached 99.99% accuracy so cancelling training!\")\n",
    "            self.model.stop_training = True\n",
    "\n",
    "callbacks = myCallback()"
   ]
  },
  {
   "cell_type": "code",
   "execution_count": 138,
   "metadata": {},
   "outputs": [
    {
     "name": "stdout",
     "output_type": "stream",
     "text": [
      "Train on 52909 samples, validate on 22674 samples\n",
      "Epoch 1/5\n",
      "52909/52909 [==============================] - 86s 2ms/step - loss: 0.0078 - acc: 0.9988 - val_loss: 1.5020e-07 - val_acc: 1.0000\n",
      "Epoch 2/5\n",
      "52909/52909 [==============================] - 85s 2ms/step - loss: 7.8655e-06 - acc: 1.0000 - val_loss: 1.1048e-07 - val_acc: 1.0000\n",
      "\n",
      "Reached 99.99% accuracy so cancelling training!\n"
     ]
    },
    {
     "data": {
      "text/plain": [
       "<keras.callbacks.History at 0x1c5accc5f8>"
      ]
     },
     "execution_count": 138,
     "metadata": {},
     "output_type": "execute_result"
    }
   ],
   "source": [
    "model.fit(x_train, y_train, validation_data=(x_val, y_val),\n",
    "          epochs=5, batch_size=64, callbacks=[callbacks])"
   ]
  },
  {
   "cell_type": "code",
   "execution_count": null,
   "metadata": {},
   "outputs": [],
   "source": []
  }
 ],
 "metadata": {
  "kernelspec": {
   "display_name": "Python 3",
   "language": "python",
   "name": "python3"
  },
  "language_info": {
   "codemirror_mode": {
    "name": "ipython",
    "version": 3
   },
   "file_extension": ".py",
   "mimetype": "text/x-python",
   "name": "python",
   "nbconvert_exporter": "python",
   "pygments_lexer": "ipython3",
   "version": "3.7.1"
  }
 },
 "nbformat": 4,
 "nbformat_minor": 2
}
